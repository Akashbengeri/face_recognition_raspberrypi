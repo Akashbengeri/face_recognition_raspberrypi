{
 "cells": [
  {
   "cell_type": "markdown",
   "metadata": {},
   "source": [
    "# Navapravartana"
   ]
  },
  {
   "cell_type": "markdown",
   "metadata": {},
   "source": [
    "A sample project for building face recognition model using face-recognition library using Open-CV. The full tutorial can be founf here(https://www.pyimagesearch.com/2018/06/25/raspberry-pi-face-recognition/). You can find the project’s bitbucket repository HERE(https://sourcecode.socialcoding.bosch.com/users/pwu1kor/repos/navapravartana-face-recognition/browse)"
   ]
  },
  {
   "cell_type": "markdown",
   "metadata": {},
   "source": [
    "## Create folders\n",
    "\n",
    "Clone the Github repository or Create the folders following the structure given above (You could use a different name for any of the folders)"
   ]
  },
  {
   "cell_type": "markdown",
   "metadata": {},
   "source": [
    "\t├── dataset\n",
    "\t│   ├── Person1\n",
    "\t│   │   ├── 1.jpg\n",
    "\t│   │   ├── 2.jpg\n",
    "\t│   │   ├── 3.jpg\n",
    "\t│   │   ├── ...\n",
    "\t│   └──Person2\n",
    "\t│       ├── 1.jpg\n",
    "\t│       ├── 2.jpg\n",
    "\t│       ├── 3.jpg\n",
    "\t│       ├── ...\n",
    "\t├── encode_faces.py\n",
    "\t├── encodings.pickle\n",
    "\t├── haarcascade_frontalface_default.xml\n",
    "\t└── pi_face_recognition.py"
   ]
  },
  {
   "cell_type": "markdown",
   "metadata": {},
   "source": [
    "## Prepare traininig images\n",
    "\n",
    "Project’s repository contains training images for face recognition. You can create your own dataset by cropping the faces and storing them in respective folders. You can also use Open-Cv library \"face-detection\" to crop the faces for you. The training set should be about 20 to 50 images for better accuracy.\n"
   ]
  },
  {
   "cell_type": "markdown",
   "metadata": {},
   "source": [
    "## Creating the Encodings\n",
    "\n",
    "Run this command to generate the encodings for all the images. A pickle file will be generated.\n"
   ]
  },
  {
   "cell_type": "code",
   "execution_count": null,
   "metadata": {},
   "outputs": [],
   "source": [
    "$ python encode_faces.py --dataset dataset --encodings encodings.pickle --detection-method hog"
   ]
  },
  {
   "cell_type": "markdown",
   "metadata": {},
   "source": [
    "## Running the Program\n",
    "\n",
    "Run this code to test the algorithm. If you have connected a webcam then a video stream will start and the face recognition will start running. If you are using the webcam from your monitor or laptop then you have to change one  line from this file. And run the following"
   ]
  },
  {
   "cell_type": "code",
   "execution_count": null,
   "metadata": {},
   "outputs": [],
   "source": [
    "excecutable.py"
   ]
  },
  {
   "cell_type": "code",
   "execution_count": null,
   "metadata": {},
   "outputs": [],
   "source": []
  }
 ],
 "metadata": {
  "kernelspec": {
   "display_name": "Python 3",
   "language": "python",
   "name": "python3"
  },
  "language_info": {
   "codemirror_mode": {
    "name": "ipython",
    "version": 3
   },
   "file_extension": ".py",
   "mimetype": "text/x-python",
   "name": "python",
   "nbconvert_exporter": "python",
   "pygments_lexer": "ipython3",
   "version": "3.6.4"
  }
 },
 "nbformat": 4,
 "nbformat_minor": 2
}
